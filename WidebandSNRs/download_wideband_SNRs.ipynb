{
  "nbformat": 4,
  "nbformat_minor": 0,
  "metadata": {
    "colab": {
      "name": "download_wideband_SNRs.ipynb",
      "provenance": []
    },
    "kernelspec": {
      "name": "python3",
      "display_name": "Python 3"
    },
    "language_info": {
      "name": "python"
    }
  },
  "cells": [
    {
      "cell_type": "code",
      "execution_count": 5,
      "metadata": {
        "colab": {
          "base_uri": "https://localhost:8080/",
          "height": 105
        },
        "id": "IuUypXmPrxnR",
        "outputId": "a44b5c22-afe6-4347-d81a-66402188480f"
      },
      "outputs": [
        {
          "output_type": "stream",
          "name": "stdout",
          "text": [
            "patool: Extracting WidebandSNRs.rar ...\n",
            "patool: running /usr/bin/unrar x -- /content/WidebandSNRs.rar\n",
            "patool:     with cwd='./Unpack_7f_qftin'\n",
            "patool: ... WidebandSNRs.rar extracted to `WidebandSNRs.mat'.\n"
          ]
        },
        {
          "output_type": "execute_result",
          "data": {
            "application/vnd.google.colaboratory.intrinsic+json": {
              "type": "string"
            },
            "text/plain": [
              "'WidebandSNRs.mat'"
            ]
          },
          "metadata": {},
          "execution_count": 5
        }
      ],
      "source": [
        "import requests\n",
        "\n",
        "def download_file_from_google_drive(id, destination):\n",
        "    URL = \"https://docs.google.com/uc?export=download\"\n",
        "\n",
        "    session = requests.Session()\n",
        "\n",
        "    response = session.get(URL, params = { 'id' : id }, stream = True)\n",
        "    token = get_confirm_token(response)\n",
        "\n",
        "    if token:\n",
        "        params = { 'id' : id, 'confirm' : token }\n",
        "        response = session.get(URL, params = params, stream = True)\n",
        "\n",
        "    save_response_content(response, destination)    \n",
        "\n",
        "def get_confirm_token(response):\n",
        "    for key, value in response.cookies.items():\n",
        "        if key.startswith('download_warning'):\n",
        "            return value\n",
        "\n",
        "    return None\n",
        "\n",
        "def save_response_content(response, destination):\n",
        "    CHUNK_SIZE = 32768\n",
        "\n",
        "    with open(destination, \"wb\") as f:\n",
        "        for chunk in response.iter_content(CHUNK_SIZE):\n",
        "            if chunk: # filter out keep-alive new chunks\n",
        "                f.write(chunk)\n",
        "                \n",
        "                \n",
        "file_id = '1avSrpWQwtj1HVNMdOrcnaBie1Uahvt9R'\n",
        "destination = 'WidebandSNRs.rar'\n",
        "download_file_from_google_drive(file_id, destination)\n",
        "\n",
        "import patoolib\n",
        "patoolib.extract_archive(\"WidebandSNRs.rar\")"
      ]
    },
    {
      "cell_type": "code",
      "source": [
        "!pip install patool"
      ],
      "metadata": {
        "colab": {
          "base_uri": "https://localhost:8080/"
        },
        "id": "xNP4T5qhtyCG",
        "outputId": "a8b54764-cabc-4184-91ec-d46aba3274ef"
      },
      "execution_count": 4,
      "outputs": [
        {
          "output_type": "stream",
          "name": "stdout",
          "text": [
            "Collecting patool\n",
            "  Downloading patool-1.12-py2.py3-none-any.whl (77 kB)\n",
            "\u001b[?25l\r\u001b[K     |████▎                           | 10 kB 18.6 MB/s eta 0:00:01\r\u001b[K     |████████▌                       | 20 kB 24.4 MB/s eta 0:00:01\r\u001b[K     |████████████▊                   | 30 kB 27.8 MB/s eta 0:00:01\r\u001b[K     |█████████████████               | 40 kB 31.5 MB/s eta 0:00:01\r\u001b[K     |█████████████████████▏          | 51 kB 18.7 MB/s eta 0:00:01\r\u001b[K     |█████████████████████████▍      | 61 kB 20.3 MB/s eta 0:00:01\r\u001b[K     |█████████████████████████████▋  | 71 kB 21.4 MB/s eta 0:00:01\r\u001b[K     |████████████████████████████████| 77 kB 4.9 MB/s \n",
            "\u001b[?25hInstalling collected packages: patool\n",
            "Successfully installed patool-1.12\n"
          ]
        }
      ]
    },
    {
      "cell_type": "code",
      "source": [
        ""
      ],
      "metadata": {
        "id": "OfMlfWVztzAc"
      },
      "execution_count": null,
      "outputs": []
    }
  ]
}